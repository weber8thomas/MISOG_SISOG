{
 "cells": [
  {
   "cell_type": "code",
   "execution_count": 1,
   "id": "floppy-breath",
   "metadata": {},
   "outputs": [
    {
     "name": "stderr",
     "output_type": "stream",
     "text": [
      "/home/weber/.conda/envs/ExoCarto/lib/python3.7/site-packages/ipykernel_launcher.py:38: MatplotlibDeprecationWarning: \n",
      "The createFontList function was deprecated in Matplotlib 3.2 and will be removed two minor releases later. Use FontManager.addfont instead.\n"
     ]
    }
   ],
   "source": [
    "# General imports\n",
    "import os\n",
    "import sys\n",
    "import pandas as pd\n",
    "import scipy\n",
    "pd.options.mode.chained_assignment = None  # default='warn'\n",
    "import numpy as np\n",
    "from tqdm import tqdm\n",
    "sys.path.append('../')\n",
    "# Other imports\n",
    "\n",
    "tqdm.pandas()\n",
    "import yaml\n",
    "import json\n",
    "\n",
    "# Figures imports\n",
    "import matplotlib\n",
    "from matplotlib.lines import Line2D   \n",
    "import matplotlib.patches as mpatches\n",
    "import seaborn as sns\n",
    "import matplotlib.pyplot as plt\n",
    "import matplotlib.ticker as mtick\n",
    "from statannot import add_stat_annotation\n",
    "import matplotlib.font_manager as font_manager\n",
    "import string\n",
    "\n",
    "\n",
    "## YAML FILES CONFIG\n",
    "yaml = yaml.load(open(\"config/config_files.yaml\"), Loader=yaml.FullLoader)\n",
    "base_dir = yaml['base_directory']\n",
    "sys.exit('EXIT : Need to specify the base_directory in config file : \"conf_files.yaml\"') if base_dir == 'TO_CHANGE' else None\n",
    "    \n",
    "\n",
    "\n",
    "# Font settings\n",
    "font_dirs = ['/home/weber/Fonts', ]\n",
    "font_files = font_manager.findSystemFonts(fontpaths=font_dirs)\n",
    "font_list = font_manager.createFontList(font_files)\n",
    "font_manager.fontManager.ttflist.extend(font_list)\n",
    "\n",
    "pvalues_cutoff = json.load(open('config/config_files.json'))['pvalues_cutoff']\n",
    "pvalues_cutoff = [[e, str(e)] for e in pvalues_cutoff]\n",
    "\n",
    "import matplotlib.font_manager as font_manager\n",
    "\n",
    "from matplotlib import rcParams\n",
    "rcParams['font.family'] = 'sans-serif'\n",
    "rcParams['font.sans-serif'] = ['Arial']\n",
    "rcParams['font.weight'] = 'light'\n",
    "rcParams['axes.facecolor'] = 'white'\n",
    "rcParams['font.size'] = 18"
   ]
  },
  {
   "cell_type": "markdown",
   "id": "controlled-majority",
   "metadata": {},
   "source": [
    "# StringDB + Clustering"
   ]
  },
  {
   "cell_type": "markdown",
   "id": "nominated-spanking",
   "metadata": {},
   "source": [
    "Liste des fichiers précédemment générés : "
   ]
  },
  {
   "cell_type": "code",
   "execution_count": 324,
   "id": "adaptive-violence",
   "metadata": {},
   "outputs": [
    {
     "name": "stdout",
     "output_type": "stream",
     "text": [
      "total 76\n",
      "-rw-r--r-- 1 weber bio3d 34722 mars   7 14:56 HS-Miso-MM-Miso_HS_gene_names.txt\n",
      "-rw-r--r-- 1 weber bio3d 20338 mars   7 14:56 HS-Miso-MM-Siso_HS_gene_names.txt\n",
      "-rw-r--r-- 1 weber bio3d  7202 mars   7 14:56 HS-Siso-MM-Miso_HS_gene_names.txt\n",
      "-rw-r--r-- 1 weber bio3d 11859 mars   7 14:56 HS-Siso-MM-Siso_HS_gene_names.txt\n"
     ]
    }
   ],
   "source": [
    "! ls -l /gstock/GeneIso/V2_with_MM_expression/Gene_lists_STRING"
   ]
  },
  {
   "cell_type": "markdown",
   "id": "looking-mercy",
   "metadata": {},
   "source": [
    "## StringDB"
   ]
  },
  {
   "cell_type": "markdown",
   "id": "bearing-passage",
   "metadata": {},
   "source": [
    "Ligne commande pour passer d'une liste de gènes à intéractome pour chacun des fichiers\n",
    "Seuil 900 utilisé\n",
    "```\n",
    "> setgscoperr\n",
    "> gscope puts StringInteractome FichierContenantListeGene RepertoireSortie Organisme Seuil\n",
    "> Example : gscope puts StringInteractome /gstock/GeneIso/V2/Gene_lists_STRING/test.txt /gstock/GeneIso/V2/STRING_RESULTS/ 9606 900\n",
    "```"
   ]
  },
  {
   "cell_type": "markdown",
   "id": "cooked-performer",
   "metadata": {},
   "source": [
    "## MCL"
   ]
  },
  {
   "cell_type": "markdown",
   "id": "necessary-subcommittee",
   "metadata": {},
   "source": [
    " Traitement des QueriesOnly pour ne pas ramener des gènes avec d'autres statuts que ceux dans la liste\n",
    " \n",
    " ```\n",
    "/biolo/mcl/bin/mcl <(cat QueryOnly.string | cut -f 2,4) --abc -I 2.0 -o \"$OUTPUT\"\n",
    "```"
   ]
  },
  {
   "cell_type": "markdown",
   "id": "dutch-subscriber",
   "metadata": {},
   "source": [
    "# HS Miso - MM Siso"
   ]
  },
  {
   "cell_type": "markdown",
   "id": "korean-format",
   "metadata": {},
   "source": [
    "## Queries only after MM expression\n"
   ]
  },
  {
   "cell_type": "code",
   "execution_count": 327,
   "id": "tight-writer",
   "metadata": {},
   "outputs": [],
   "source": [
    "# Retrieve MCL results & transform into dict : {cluster : genelist}\n",
    "\n",
    "clustering_dict = pd.read_csv('/gstock/GeneIso/V2_with_MM_expression/STRING_RESULTS/HS-Miso-MM-Siso_HS_gene_names/String_9606_202203071501/QueryOnly_20.abc', names=['Cluster'])\n",
    "clustering_dict.index = clustering_dict.index  + 1\n",
    "clustering_dict = clustering_dict.to_dict()['Cluster']\n",
    "clustering_dict = {k:sorted(v.split('\\t')) for k,v in clustering_dict.items()}\n"
   ]
  },
  {
   "cell_type": "code",
   "execution_count": 326,
   "id": "dangerous-dictionary",
   "metadata": {},
   "outputs": [
    {
     "name": "stdout",
     "output_type": "stream",
     "text": [
      ">Cluster 1 - 238 gènes\n",
      "ACAA1 ADRM1 AGTR1 AHCTF1 AMACR ANAPC4 AP2A2 ARIH2 ASB14 ASB6 ASB7 ATRIP BABAM1 BACH1 BAP1 BARD1 BRCA1 BUB1 C17orf70 CACYBP CCNB2 CDC16 CDC20 CDCA3 CENPP CENPT CHD1L CHMP1A CHMP5 CHMP7 CHTF8 CKAP2 CLHC1 COMMD4 COMMD5 COMMD9 COPS3 COPS4 COPS5 COPS8 CROT DCAF10 DCAF5 DCAF6 DCDC2 DERL1 DTL DTX1 DYRK2 EGLN3 EIF4E3 ENGASE EPM2A ERLEC1 ERLIN2 FAM64A FAN1 FANCM FBXL16 FBXL2 FBXL20 FBXL22 FBXL4 FBXL7 FBXL8 FBXO18 FBXO31 FBXO32 FBXO4 FBXO5 FBXW8 FBXW9 GADD45G GAK GEN1 GMDS GSK3A GSTK1 GYS1 HECTD3 HECW1 HELQ HERC6 HLTF HMGCL HSD17B4 HUS1 IDE IREB2 ITGB3BP JAG2 KCTD7 KDM1B KIAA0101 KIAA0319 KLHL21 KLHL3 KNTC1 LDLR LGR6 LIMD1 LONRF1 LRIG1 LRRC41 LTA LTBR MAD1L1 MAD2L1BP MAP2K4 MAP3K14 MAP3K8 MCM3 MELK MIB2 MLH1 MSH2 MSH6 MUS81 MVB12A MVB12B MYSM1 NECAP1 NECAP2 NFRKB NHEJ1 OAZ3 ODC1 ORC1 ORC5 OTUD7A PARP2 PCNA PEX10 PEX11A PEX13 PEX16 PEX6 PHYH PKMYT1 PLAA PLK2 PMS1 POLA1 POLB POLD1 POLD2 POLE2 POLE3 POLH POLL POLN PRKDC PSMA2 PSMA4 PSMA6 PSMB2 PSMB6 PSMB8 PSMC1 PSMC2 PSMC3IP PSMC5 PSMC6 PSMD1 PSMD2 PSMD6 PSMD7 PSMD9 PSME3 PTRH2 RAB5B RAD23B RAD51 RBBP8 REL REV1 RFC2 RFC3 RFWD2 RIF1 RNF182 RNF217 RNF34 ROR1 RPA2 RPA3 RPS6KA2 RSPO1 RSPO2 RSPO3 RUNX3 SCARB2 SHFM1 SIAH1 SKA2 SLC27A2 SLC2A8 SLX1A SNX18 SOCS5 SPIDR SPRTN STON1 TESPA1 TNFRSF11A TNFSF14 TNKS TRIM37 TRIM41 TSG101 TYSND1 UBA5 UBB UBE2C UBE2D1 UBE2E1 UBE2G2 UBE2L6 UBE2N UBE2S UBE3B UBFD1 UBOX5 UCHL1 UCHL3 UHRF2 USP49 USP9X VAMP3 VHL VPS36 VPS37A VTA1 WSB1 XRCC3 XRCC4 XRCC5 ZSWIM7\n",
      ">Cluster 2 - 102 gènes\n",
      "AAAS AFF4 BAZ1B BRF1 BRF2 C7orf26 CCDC12 CDC40 CLNS1A CSTF3 CTCF CTNNBL1 CWC27 DDX21 DDX42 DDX5 DEK DHX16 DHX8 ELL ESRP2 FABP7 GCFC2 GEMIN2 GEMIN4 GEMIN6 GLE1 GPN3 GTF2H2 GTF2H3 GTF3C1 GTF3C3 HNRNPU HOXA3 HOXA4 INTS12 INTS4 INTS7 INTS9 ISY1 LSM5 MAGOH MYBBP1A NELFA NHP2L1 NUP153 NUP160 NUP214 NUP54 NUP85 PAF1 POLR1A POLR2B POLR2E POLR3B POM121 PPIE PPIL4 PPIL6 PPWD1 PRMT5 PRPF4 RAE1 RBM17 RBMX2 RPRD1A RRN3 SF3B1 SF3B2 SNAPC2 SNAPC5 SNRNP40 SNRNP70 SNRPB SNRPB2 SNRPD2 SNRPF SNUPN SNW1 SRSF3 STRAP SUPT16H SUPT4H1 SUPT6H SYF2 SYMPK TAF13 TAF15 TAF1A TAF1C TCEA2 TCEA3 TFIP11 THOC1 THOC2 THOC3 TXNL4A TXNL4B UPF3B URI1 USP39 ZC3H11A\n",
      ">Cluster 3 - 77 gènes\n",
      "ABCF1 ATXN2 C1D DCP1A DDOST DDX3X DIS3 EEF1A1 EIF1 EIF1AX EIF2B1 EIF2S1 EIF3A EIF3B EIF3C EIF3D EIF3E EIF3F EIF3H EIF3J EIF3L EIF4A1 EIF5B ERI1 ETF1 EXOSC2 EXOSC3 EXOSC9 GNB2L1 HBA2 IPO13 ISG20L2 MPHOSPH6 N6AMT2 OSTC PABPC1 PARN PNRC2 RPL12 RPL13 RPL14 RPL23 RPL23A RPL24 RPL27A RPL3 RPL35 RPL36A RPL37 RPL37A RPL4 RPL6 RPL7 RPLP1 RPN1 RPS16 RPS20 RPS21 RPS23 RPS26 RPS29 RPS3A RPS6 RPS8 SEC61A1 SEC62 SERP1 SMG6 SMG8 SMG9 SRPR TRAM1 TTLL12 UPF3A WDR18 WDR31 ZFC3H1\n",
      ">Cluster 4 - 54 gènes\n",
      "AHI1 AJUBA ARL2 B9D1 CC2D2A CCNG1 CCP110 CDK5RAP2 CEP152 CEP162 CEP192 CEP76 CEP78 CEP83 CEP89 DCTN2 FAM83D HAUS3 HAUS4 HAUS6 HMMR IER3 KIZ MARK4 MASTL MKS1 MLXIPL NEDD1 NINL NUMA1 OFD1 PPME1 PPP2R1A PPP2R2C RAB8A RPGRIP1L SCLT1 SSNA1 STIL STMN4 TBCB TBCD TBCE TCTN1 TMEM231 TUBA1A TUBA1C TUBA4A TUBA8 TUBB TUBB6 TUBGCP2 TUBGCP3 WDR62\n",
      ">Cluster 5 - 50 gènes\n",
      "ADCY1 ADCY4 ADCY5 ADM ADORA3 ADRA2C AVPR2 BDKRB1 BDKRB2 CCL21 CCL28 CCL4 CCR10 CRHR2 CXCR4 DRD2 EDN3 EDNRA FPR1 GIPR GNG4 GPBAR1 GPER1 GPR17 GPR176 GPSM2 GPSM3 HEBP1 INSC KCNJ15 LPAR6 MC1R MTG1 NCS1 OPRL1 P2RY6 PDE6B PENK PLCB2 PLCB3 PTGER2 PTHLH RAMP3 S1PR3 S1PR5 TAC1 TACR2 VIP VIPR1 VIPR2\n",
      ">Cluster 6 - 35 gènes\n",
      "ADAM10 AGPAT2 ALDH3B1 AP1M1 AP1M2 AP1S3 ARL8A ASIC1 ATP6AP2 ATP6V0A2 ATP6V0D1 ATP6V1C1 ATP6V1D ATP6V1E1 BLOC1S6 CLVS1 HGSNAT ICAM2 ITGB2 MGAM ORMDL3 PGRMC1 PLAT PLAU PLAUR RAB37 RAP2C SELP SERPINE2 SGSH SLC2A5 STOM TBC1D8B TMC6 TMEM179B\n",
      ">Cluster 7 - 34 gènes\n",
      "ARCN1 ARF3 ARL1 BET1L CAPZA2 COG2 COG5 COPB1 COPB2 COPE COPG2 DCTN5 DYNC1LI1 DYNC1LI2 GOLGA4 GORASP1 GOSR1 KDELR2 KDELR3 KIF21B KIF22 KIF23 KIF27 MAN2A2 NAPA NAPB RIC1 SPTBN2 SURF4 TMED2 TMED3 TMED4 VPS52 YKT6\n",
      ">Cluster 8 - 33 gènes\n",
      "ADAM28 CAPN2 CD81 COL11A1 COL16A1 COL23A1 COL4A1 COL4A5 COL4A6 COL5A1 COL5A2 COL8A2 COLGALT2 CRTAP DAB1 FBN2 FLNB ITGA11 ITGB1 ITGB3 ITGB6 ITGB7 ITGB8 JAM3 LAMA4 LAMB3 LEPRE1 LEPREL1 MAP3K11 NID1 SCAI SLC4A11 TGFBI\n",
      ">Cluster 9 - 29 gènes\n",
      "GFM1 MRPL10 MRPL19 MRPL27 MRPL33 MRPL34 MRPL35 MRPL37 MRPL4 MRPL43 MRPL45 MRPL46 MRPL47 MRPL51 MRPL53 MRPS11 MRPS16 MRPS2 MRPS22 MRPS24 MRPS25 MRPS27 MRPS28 MRPS34 MRPS35 MRPS7 MRRF MTRF1L OXA1L\n",
      ">Cluster 10 - 29 gènes\n",
      "ALB APOA1 APOM B3GAT2 B3GAT3 CALR CLGN CST3 DNAJC10 EVA1A EXT2 FAM20A FSTL1 FSTL3 GPC1 HS2ST1 HS6ST3 HSP90B1 LAMB2 LRP10 MIA3 MXRA8 NTN4 PDIA6 PRDX4 SDC2 SDC3 SPARCL1 VWA1\n",
      ">Cluster 11 - 27 gènes\n",
      "ANKZF1 ARG1 ARSA ARSB ARSK ELANE FABP5 GCA GLB1 GNS GRN HEXA HEXB IST1 NAPRT NHLRC3 NLRC4 NLRP6 NPC2 PTGES2 PYCARD SUMF2 UBE4B UBXN6 VAT1 VCP VCPKMT\n",
      ">Cluster 12 - 26 gènes\n",
      "TRIM28 ZFP28 ZFP69 ZIK1 ZNF213 ZNF282 ZNF324 ZNF334 ZNF382 ZNF383 ZNF436 ZNF454 ZNF473 ZNF483 ZNF557 ZNF566 ZNF582 ZNF627 ZNF664 ZNF688 ZNF750 ZNF771 ZNF786 ZNF791 ZNF839 ZSCAN25\n",
      ">Cluster 13 - 24 gènes\n",
      "BAG4 DOK1 DOK5 EPOR ERBB2 ERBB3 FGFR4 FRS2 FRS3 GDNF GFRA3 GRB7 NRG2 PIK3CB PIK3R5 RANBP10 RASA1 RRAS2 SOS1 SPRY2 SPRY4 TXK USP6NL ZFYVE28\n",
      ">Cluster 14 - 24 gènes\n",
      "ACO1 ALDH5A1 COQ2 COQ3 COQ4 COQ9 CS FXN HSCB IDH2 IDH3B IDH3G ISCA1 LDHD MDH1 MDH2 ME2 ME3 PAM16 PMPCB TIMM17B TIMM21 TIMM50 TOMM7\n",
      ">Cluster 15 - 23 gènes\n",
      "ANLN ARHGAP29 ARHGAP30 ARHGEF11 ARHGEF16 ARHGEF26 ARHGEF28 ARHGEF5 CIT FAM13B FARP1 GNA12 NGEF OBSCN PFN1 PIP5K1B PIP5KL1 PLEKHG6 PLXNB1 RHOA RHOBTB2 STARD8 SYDE1\n"
     ]
    }
   ],
   "source": [
    "for cluster, cluster_content in clustering_dict.items():\n",
    "    if cluster <= 15:\n",
    "        print('>Cluster {} - {} gènes'.format(cluster, len(cluster_content)))\n",
    "        print(\" \".join(cluster_content))\n",
    "    \n",
    "    "
   ]
  },
  {
   "cell_type": "markdown",
   "id": "informative-welcome",
   "metadata": {},
   "source": [
    "# HS Siso - MM Miso"
   ]
  },
  {
   "cell_type": "code",
   "execution_count": 329,
   "id": "hairy-tooth",
   "metadata": {},
   "outputs": [],
   "source": [
    "clustering_dict = pd.read_csv('/gstock/GeneIso/V2_with_MM_expression/STRING_RESULTS/HS-Siso-MM-Miso_HS_gene_names/String_9606_202203071503/QueryOnly_20.abc', names=['Cluster'])\n",
    "clustering_dict.index = clustering_dict.index  + 1\n",
    "clustering_dict = clustering_dict.to_dict()['Cluster']\n",
    "clustering_dict = {k:sorted(v.split('\\t')) for k,v in clustering_dict.items()}\n",
    "all_genes_clustering = [sub_e for k in clustering_dict.keys() for sub_e in clustering_dict[k] ]\n"
   ]
  },
  {
   "cell_type": "code",
   "execution_count": 330,
   "id": "occupied-johnston",
   "metadata": {},
   "outputs": [
    {
     "name": "stdout",
     "output_type": "stream",
     "text": [
      ">Cluster 1 - 41 gènes\n",
      "AQR CASC3 CDK9 CWC15 CWC22 CWC25 DHX15 DHX9 DNAJC8 EDC4 ELL2 ELL3 GTF2E2 HNRNPH2 INTS1 INTS10 INTS8 IWS1 LSM10 LSM2 LSM3 METTL14 NUCKS1 NUDT21 PHAX POLR2C POLR2G POLR2I POLR2J PRPF18 PRPF19 PRPF3 PRPF40A PRPF6 RPAP2 RPRD1B SF3A2 SLU7 SNRNP48 SNRPA XPA\n",
      ">Cluster 2 - 31 gènes\n",
      "ACVR2B BMPR1A CDC26 CDC34 COMMD1 COMMD3 CUL5 DCAF15 DDA1 FBXL15 FBXL3 FBXO30 FBXO6 GLMN HERC2 KDM4A KLHL22 KLHL25 RBX1 RNF144B RNF168 RNF20 RNF25 SH3RF1 SKI SMURF2 TRIM21 UBE2B UBE2M UBE2Q1 ZER1\n",
      ">Cluster 3 - 24 gènes\n",
      "DDX27 EIF2S2 EIF2S3 GRWD1 MRTO4 NIFK NOL11 NOL7 NOL9 NOP56 NOP58 NSUN6 RBM34 RPF2 RPL10A RPL3L RPS25 RPS28 RRP36 SURF6 TRUB1 TSR2 UTP14C UTP6\n",
      ">Cluster 4 - 21 gènes\n",
      "ADCY9 ADRB3 ADRBK2 C5AR1 CHRM1 CXCL10 FZD5 GNA14 GNAZ GNG12 GNG7 GPR37 GRK5 NTSR2 OXTR P2RY12 PDCL PSAP PTGER4 RGS2 WNT11\n",
      ">Cluster 5 - 18 gènes\n",
      "ARF5 COG1 COPG1 GCC1 GOLGA1 GOLGA5 KIF1C LMAN1 MAN1A1 NAPG PEF1 RGP1 RINT1 SEC22B SEC31B TMED10 TMED7 TMED9\n",
      ">Cluster 6 - 17 gènes\n",
      "CRKL FGF18 FGF9 JAK2 MAP2K2 NRAS PAPSS1 PIM1 PLA2G4A RANBP9 RASAL3 SLC11A1 SND1 SPRED1 STBD1 SVIP TEC\n",
      ">Cluster 7 - 16 gènes\n",
      "CCNA2 CCNB1 CENPU CEP55 ESPL1 GTSE1 MAD2L1 MAU2 NMI PDS5B PSMB1 SMC5 SPC24 SPC25 STAT5B WAPAL\n",
      ">Cluster 8 - 15 gènes\n",
      "APOE ATP6AP1 ATP6V1A CP FAF2 FTL FUCA2 IGFBP4 LIPE PNPLA2 PRDX6 SCG2 SERPINC1 STK11IP TF\n",
      ">Cluster 9 - 11 gènes\n",
      "DBF4 EME2 MCM6 ORC2 POLA2 POLE4 RPA1 TIPIN WDR48 WRN XRCC2\n",
      ">Cluster 10 - 11 gènes\n",
      "DENND6A EXOC2 RAB14 RAB21 RAB22A RAB27B RAB31 RAB3B RAB3C RAB44 STXBP3\n",
      ">Cluster 11 - 10 gènes\n",
      "ENSG00000239789 ICT1 MRPL1 MRPL15 MRPL17 MRPL40 MRPS10 MRPS14 MRPS18B TUFM\n",
      ">Cluster 12 - 10 gènes\n",
      "ARPC3 DNASE2 ENSG00000249884 SH3GL2 STAM STAM2 SYT11 VPS25 VPS37C WASL\n",
      ">Cluster 13 - 10 gènes\n",
      "APOO APOOL F13A1 GP1BA PECAM1 SPARC SRGN TMEM11 VEGFC VWF\n",
      ">Cluster 14 - 9 gènes\n",
      "CENPJ CETN2 INO80D MZT1 PCNT PRKAR2B SASS6 SDCCAG8 YWHAG\n",
      ">Cluster 15 - 9 gènes\n",
      "ARHGAP1 ARHGAP10 ARHGDIG ARHGEF40 FGD1 FGD2 PREX1 RHOQ SYDE2\n"
     ]
    }
   ],
   "source": [
    "for cluster, cluster_content in clustering_dict.items():\n",
    "    if cluster <= 15:\n",
    "        print('>Cluster {} - {} gènes'.format(cluster, len(cluster_content)))\n",
    "        print(\" \".join(cluster_content))\n",
    "    \n",
    "    "
   ]
  },
  {
   "cell_type": "markdown",
   "id": "mediterranean-cooler",
   "metadata": {},
   "source": [
    "# GPROFILER / ENRICHMENT ANALYSIS"
   ]
  },
  {
   "cell_type": "code",
   "execution_count": 310,
   "id": "challenging-remedy",
   "metadata": {},
   "outputs": [
    {
     "data": {
      "text/html": [
       "<div>\n",
       "<style scoped>\n",
       "    .dataframe tbody tr th:only-of-type {\n",
       "        vertical-align: middle;\n",
       "    }\n",
       "\n",
       "    .dataframe tbody tr th {\n",
       "        vertical-align: top;\n",
       "    }\n",
       "\n",
       "    .dataframe thead th {\n",
       "        text-align: right;\n",
       "    }\n",
       "</style>\n",
       "<table border=\"1\" class=\"dataframe\">\n",
       "  <thead>\n",
       "    <tr style=\"text-align: right;\">\n",
       "      <th></th>\n",
       "      <th>GeneID</th>\n",
       "      <th>ensembl_gene_id</th>\n",
       "      <th>Miso_siso_mm</th>\n",
       "      <th>Miso_siso_mm_expr</th>\n",
       "    </tr>\n",
       "  </thead>\n",
       "  <tbody>\n",
       "    <tr>\n",
       "      <th>0</th>\n",
       "      <td>ENSG00000000003</td>\n",
       "      <td>ENSMUSG00000067377</td>\n",
       "      <td>Siso</td>\n",
       "      <td>Siso</td>\n",
       "    </tr>\n",
       "    <tr>\n",
       "      <th>1</th>\n",
       "      <td>ENSG00000000005</td>\n",
       "      <td>ENSMUSG00000031250</td>\n",
       "      <td>Siso</td>\n",
       "      <td>Siso</td>\n",
       "    </tr>\n",
       "    <tr>\n",
       "      <th>2</th>\n",
       "      <td>ENSG00000000419</td>\n",
       "      <td>ENSMUSG00000078919</td>\n",
       "      <td>Miso</td>\n",
       "      <td>Miso</td>\n",
       "    </tr>\n",
       "    <tr>\n",
       "      <th>3</th>\n",
       "      <td>ENSG00000000457</td>\n",
       "      <td>ENSMUSG00000026584</td>\n",
       "      <td>Miso</td>\n",
       "      <td>Miso</td>\n",
       "    </tr>\n",
       "    <tr>\n",
       "      <th>4</th>\n",
       "      <td>ENSG00000000460</td>\n",
       "      <td>ENSMUSG00000041406</td>\n",
       "      <td>Miso</td>\n",
       "      <td>Miso</td>\n",
       "    </tr>\n",
       "    <tr>\n",
       "      <th>...</th>\n",
       "      <td>...</td>\n",
       "      <td>...</td>\n",
       "      <td>...</td>\n",
       "      <td>...</td>\n",
       "    </tr>\n",
       "    <tr>\n",
       "      <th>11688</th>\n",
       "      <td>ENSG00000284194</td>\n",
       "      <td>ENSMUSG00000091780</td>\n",
       "      <td>Miso</td>\n",
       "      <td>Miso</td>\n",
       "    </tr>\n",
       "    <tr>\n",
       "      <th>11689</th>\n",
       "      <td>ENSG00000284308</td>\n",
       "      <td>ENSMUSG00000030030</td>\n",
       "      <td>Miso</td>\n",
       "      <td>Miso</td>\n",
       "    </tr>\n",
       "    <tr>\n",
       "      <th>11690</th>\n",
       "      <td>ENSG00000284753</td>\n",
       "      <td>ENSMUSG00000115219</td>\n",
       "      <td>Miso</td>\n",
       "      <td>Miso</td>\n",
       "    </tr>\n",
       "    <tr>\n",
       "      <th>11691</th>\n",
       "      <td>ENSG00000284770</td>\n",
       "      <td>ENSMUSG00000039233</td>\n",
       "      <td>Siso</td>\n",
       "      <td>Siso</td>\n",
       "    </tr>\n",
       "    <tr>\n",
       "      <th>11692</th>\n",
       "      <td>ENSG00000286140</td>\n",
       "      <td>ENSMUSG00000117748</td>\n",
       "      <td>Siso</td>\n",
       "      <td>Siso</td>\n",
       "    </tr>\n",
       "  </tbody>\n",
       "</table>\n",
       "<p>11105 rows × 4 columns</p>\n",
       "</div>"
      ],
      "text/plain": [
       "                GeneID     ensembl_gene_id Miso_siso_mm Miso_siso_mm_expr\n",
       "0      ENSG00000000003  ENSMUSG00000067377         Siso              Siso\n",
       "1      ENSG00000000005  ENSMUSG00000031250         Siso              Siso\n",
       "2      ENSG00000000419  ENSMUSG00000078919         Miso              Miso\n",
       "3      ENSG00000000457  ENSMUSG00000026584         Miso              Miso\n",
       "4      ENSG00000000460  ENSMUSG00000041406         Miso              Miso\n",
       "...                ...                 ...          ...               ...\n",
       "11688  ENSG00000284194  ENSMUSG00000091780         Miso              Miso\n",
       "11689  ENSG00000284308  ENSMUSG00000030030         Miso              Miso\n",
       "11690  ENSG00000284753  ENSMUSG00000115219         Miso              Miso\n",
       "11691  ENSG00000284770  ENSMUSG00000039233         Siso              Siso\n",
       "11692  ENSG00000286140  ENSMUSG00000117748         Siso              Siso\n",
       "\n",
       "[11105 rows x 4 columns]"
      ]
     },
     "execution_count": 310,
     "metadata": {},
     "output_type": "execute_result"
    }
   ],
   "source": [
    "mm_genes = pd.read_csv('/gstock/GeneIso/V2_with_MM_expression/misog_sisog_mm_expr.tsv.gz', compression='gzip', sep='\\t')\n",
    "mm_genes_clean = mm_genes.loc[mm_genes['Miso_siso_mm'] == mm_genes['Miso_siso_mm_expr']]\n",
    "mm_genes_clean"
   ]
  },
  {
   "cell_type": "code",
   "execution_count": 332,
   "id": "restricted-sewing",
   "metadata": {},
   "outputs": [
    {
     "data": {
      "text/html": [
       "<div>\n",
       "<style scoped>\n",
       "    .dataframe tbody tr th:only-of-type {\n",
       "        vertical-align: middle;\n",
       "    }\n",
       "\n",
       "    .dataframe tbody tr th {\n",
       "        vertical-align: top;\n",
       "    }\n",
       "\n",
       "    .dataframe thead th {\n",
       "        text-align: right;\n",
       "    }\n",
       "</style>\n",
       "<table border=\"1\" class=\"dataframe\">\n",
       "  <thead>\n",
       "    <tr style=\"text-align: right;\">\n",
       "      <th></th>\n",
       "      <th>GeneID</th>\n",
       "      <th>transcript_count</th>\n",
       "      <th>Miso_siso</th>\n",
       "      <th>Gene name</th>\n",
       "      <th>Chromosome/scaffold name</th>\n",
       "      <th>Gene start (bp)</th>\n",
       "      <th>Gene end (bp)</th>\n",
       "      <th>Gene_length</th>\n",
       "    </tr>\n",
       "  </thead>\n",
       "  <tbody>\n",
       "    <tr>\n",
       "      <th>0</th>\n",
       "      <td>ENSG00000000003</td>\n",
       "      <td>3</td>\n",
       "      <td>Miso</td>\n",
       "      <td>TSPAN6</td>\n",
       "      <td>X</td>\n",
       "      <td>100627108</td>\n",
       "      <td>100639991</td>\n",
       "      <td>12883</td>\n",
       "    </tr>\n",
       "    <tr>\n",
       "      <th>1</th>\n",
       "      <td>ENSG00000000005</td>\n",
       "      <td>1</td>\n",
       "      <td>Siso</td>\n",
       "      <td>TNMD</td>\n",
       "      <td>X</td>\n",
       "      <td>100584936</td>\n",
       "      <td>100599885</td>\n",
       "      <td>14949</td>\n",
       "    </tr>\n",
       "    <tr>\n",
       "      <th>2</th>\n",
       "      <td>ENSG00000000419</td>\n",
       "      <td>3</td>\n",
       "      <td>Miso</td>\n",
       "      <td>DPM1</td>\n",
       "      <td>20</td>\n",
       "      <td>50934867</td>\n",
       "      <td>50959140</td>\n",
       "      <td>24273</td>\n",
       "    </tr>\n",
       "    <tr>\n",
       "      <th>3</th>\n",
       "      <td>ENSG00000000457</td>\n",
       "      <td>3</td>\n",
       "      <td>Miso</td>\n",
       "      <td>SCYL3</td>\n",
       "      <td>1</td>\n",
       "      <td>169849631</td>\n",
       "      <td>169894267</td>\n",
       "      <td>44636</td>\n",
       "    </tr>\n",
       "    <tr>\n",
       "      <th>4</th>\n",
       "      <td>ENSG00000000460</td>\n",
       "      <td>4</td>\n",
       "      <td>Miso</td>\n",
       "      <td>C1orf112</td>\n",
       "      <td>1</td>\n",
       "      <td>169662007</td>\n",
       "      <td>169854080</td>\n",
       "      <td>192073</td>\n",
       "    </tr>\n",
       "    <tr>\n",
       "      <th>...</th>\n",
       "      <td>...</td>\n",
       "      <td>...</td>\n",
       "      <td>...</td>\n",
       "      <td>...</td>\n",
       "      <td>...</td>\n",
       "      <td>...</td>\n",
       "      <td>...</td>\n",
       "      <td>...</td>\n",
       "    </tr>\n",
       "    <tr>\n",
       "      <th>13496</th>\n",
       "      <td>ENSG00000286143</td>\n",
       "      <td>1</td>\n",
       "      <td>Siso</td>\n",
       "      <td>None</td>\n",
       "      <td>2</td>\n",
       "      <td>219491867</td>\n",
       "      <td>219498244</td>\n",
       "      <td>6377</td>\n",
       "    </tr>\n",
       "    <tr>\n",
       "      <th>13497</th>\n",
       "      <td>ENSG00000286185</td>\n",
       "      <td>1</td>\n",
       "      <td>Siso</td>\n",
       "      <td>None</td>\n",
       "      <td>1</td>\n",
       "      <td>149390623</td>\n",
       "      <td>149556361</td>\n",
       "      <td>165738</td>\n",
       "    </tr>\n",
       "    <tr>\n",
       "      <th>13498</th>\n",
       "      <td>ENSG00000286190</td>\n",
       "      <td>1</td>\n",
       "      <td>Siso</td>\n",
       "      <td>None</td>\n",
       "      <td>17</td>\n",
       "      <td>5499427</td>\n",
       "      <td>5501006</td>\n",
       "      <td>1579</td>\n",
       "    </tr>\n",
       "    <tr>\n",
       "      <th>13499</th>\n",
       "      <td>ENSG00000287542</td>\n",
       "      <td>1</td>\n",
       "      <td>Siso</td>\n",
       "      <td>None</td>\n",
       "      <td>4</td>\n",
       "      <td>88523810</td>\n",
       "      <td>88708450</td>\n",
       "      <td>184640</td>\n",
       "    </tr>\n",
       "    <tr>\n",
       "      <th>13500</th>\n",
       "      <td>ENSG00000288920</td>\n",
       "      <td>1</td>\n",
       "      <td>Siso</td>\n",
       "      <td>RPSAP58</td>\n",
       "      <td>19</td>\n",
       "      <td>23762944</td>\n",
       "      <td>23871162</td>\n",
       "      <td>108218</td>\n",
       "    </tr>\n",
       "  </tbody>\n",
       "</table>\n",
       "<p>13501 rows × 8 columns</p>\n",
       "</div>"
      ],
      "text/plain": [
       "                GeneID  transcript_count Miso_siso Gene name  \\\n",
       "0      ENSG00000000003                 3      Miso    TSPAN6   \n",
       "1      ENSG00000000005                 1      Siso      TNMD   \n",
       "2      ENSG00000000419                 3      Miso      DPM1   \n",
       "3      ENSG00000000457                 3      Miso     SCYL3   \n",
       "4      ENSG00000000460                 4      Miso  C1orf112   \n",
       "...                ...               ...       ...       ...   \n",
       "13496  ENSG00000286143                 1      Siso      None   \n",
       "13497  ENSG00000286185                 1      Siso      None   \n",
       "13498  ENSG00000286190                 1      Siso      None   \n",
       "13499  ENSG00000287542                 1      Siso      None   \n",
       "13500  ENSG00000288920                 1      Siso   RPSAP58   \n",
       "\n",
       "      Chromosome/scaffold name  Gene start (bp)  Gene end (bp)  Gene_length  \n",
       "0                            X        100627108      100639991        12883  \n",
       "1                            X        100584936      100599885        14949  \n",
       "2                           20         50934867       50959140        24273  \n",
       "3                            1        169849631      169894267        44636  \n",
       "4                            1        169662007      169854080       192073  \n",
       "...                        ...              ...            ...          ...  \n",
       "13496                        2        219491867      219498244         6377  \n",
       "13497                        1        149390623      149556361       165738  \n",
       "13498                       17          5499427        5501006         1579  \n",
       "13499                        4         88523810       88708450       184640  \n",
       "13500                       19         23762944       23871162       108218  \n",
       "\n",
       "[13501 rows x 8 columns]"
      ]
     },
     "execution_count": 332,
     "metadata": {},
     "output_type": "execute_result"
    }
   ],
   "source": [
    "hs_genes = pd.read_parquet(\"/gstock/GeneIso/V2/Genes.parquet\")\n",
    "hs_genes"
   ]
  },
  {
   "cell_type": "markdown",
   "id": "civic-vessel",
   "metadata": {},
   "source": [
    "### Compute MISOG/SISOG ratio for HS & MM in order to compare by GO"
   ]
  },
  {
   "cell_type": "code",
   "execution_count": 333,
   "id": "dynamic-tender",
   "metadata": {},
   "outputs": [
    {
     "name": "stdout",
     "output_type": "stream",
     "text": [
      "9826\n",
      "3675\n",
      "2.6737414965986392\n"
     ]
    }
   ],
   "source": [
    "misog_hs = set(hs_genes.loc[hs_genes['Miso_siso'] == 'Miso', 'GeneID'].values.tolist())\n",
    "sisog_hs = set(hs_genes.loc[hs_genes['Miso_siso'] == 'Siso', 'GeneID'].values.tolist())\n",
    "print(len(misog_hs))\n",
    "print(len(sisog_hs))\n",
    "print(len(misog_hs) / len(sisog_hs)) "
   ]
  },
  {
   "cell_type": "code",
   "execution_count": 334,
   "id": "royal-palace",
   "metadata": {},
   "outputs": [
    {
     "name": "stdout",
     "output_type": "stream",
     "text": [
      "6601\n",
      "4485\n",
      "1.471794871794872\n"
     ]
    }
   ],
   "source": [
    "misog_mm = set(mm_genes_clean.loc[mm_genes_clean['Miso_siso_mm'] == 'Miso', 'ensembl_gene_id'].values.tolist())\n",
    "sisog_mm = set(mm_genes_clean.loc[mm_genes_clean['Miso_siso_mm'] == 'Siso', 'ensembl_gene_id'].values.tolist())\n",
    "print(len(misog_mm))\n",
    "print(len(sisog_mm))\n",
    "print(len(misog_mm) / len(sisog_mm)) "
   ]
  },
  {
   "cell_type": "code",
   "execution_count": 335,
   "id": "modular-romania",
   "metadata": {},
   "outputs": [],
   "source": [
    "\n",
    "def stats_misog_sisog(r, specie):\n",
    "    \"\"\"\n",
    "    Compute ratio & normalize according specie MISOG/SISOG ratio\n",
    "    \"\"\"\n",
    "    df = pd.Series()\n",
    "    ensg = set(r['converted'].values.tolist())\n",
    "    \n",
    "    if specie == 'hs':\n",
    "        df['HS_nb_ensg_total_in_term'] = len(ensg)\n",
    "        df['HS_nb_ensg_misog'] = len(ensg.intersection(misog_hs))\n",
    "        df['HS_nb_ensg_sisog'] = len(ensg.intersection(sisog_hs))\n",
    "        df['HS_ratio_misog_sisog'] = (df['HS_nb_ensg_misog'] / df['HS_nb_ensg_sisog']) / (len(misog_hs) / len(sisog_hs))\n",
    "    elif specie == 'mm':\n",
    "        df['MM_nb_ensg_total_in_term'] = len(ensg)\n",
    "        df['MM_nb_ensg_misog'] = len(ensg.intersection(misog_mm))\n",
    "        df['MM_nb_ensg_sisog'] = len(ensg.intersection(sisog_mm))\n",
    "        df['MM_ratio_misog_sisog'] = (df['MM_nb_ensg_misog'] / df['MM_nb_ensg_sisog']) / (len(misog_mm) / len(sisog_mm))        \n",
    "#     print(df)\n",
    "    return df\n",
    "\n",
    "\n",
    "def profiler_enrichment(gene_list, sources=['GO:MF', 'GO:BP','GO:CC', 'REAC', 'KEGG', 'WP', 'CORUM', 'HP'], correction_method='fdr'):\n",
    "    \"\"\"\n",
    "    Function to retrieve enrichment based on gene list and defined sources & correction (default : all sources, BH FDR correction)\n",
    "    \"\"\"\n",
    "    gp = GProfiler(return_dataframe=True)\n",
    "    \n",
    "    # Enrichment profiling according list\n",
    "    df = gp.profile(organism='hsapiens',\n",
    "               sources=sources,\n",
    "                query=gene_list,\n",
    "              combined=False, no_evidences=False)\n",
    "    \n",
    "    # Use gProfiler convert tool to retrieve all associated genes for each term\n",
    "    df_go_hs = gp.convert(organism='hsapiens', query=df['native'].values.tolist())\n",
    "    # groupby term & apply for each term the stats_misog_sisog fct to compute ratio \n",
    "    df_go_hs = df_go_hs.groupby('incoming').progress_apply(lambda r : stats_misog_sisog(r, 'hs'))\n",
    "    \n",
    "    # Same for MM\n",
    "    df_go_mm = gp.convert(organism='mmusculus', query=df['native'].values.tolist())\n",
    "    df_go_mm = df_go_mm.groupby('incoming').progress_apply(lambda r : stats_misog_sisog(r, 'mm'))    \n",
    "    \n",
    "    # Merge dataframes\n",
    "    df = pd.merge(\n",
    "            pd.merge(\n",
    "                df, df_go_hs.reset_index(), left_on='native', right_on='incoming'\n",
    "            ),\n",
    "            df_go_mm,\n",
    "            on='incoming'\n",
    "    )\n",
    "    \n",
    "    return df\n",
    "\n"
   ]
  },
  {
   "cell_type": "markdown",
   "id": "incident-insider",
   "metadata": {},
   "source": [
    "\n",
    "## ANALYSIS FOR GENES IDENTIFIED IN CLUSTERS WITH MCL BASED ON STRING INTERACTOME\n",
    "### HS MISOG > MM SISOG\n"
   ]
  },
  {
   "cell_type": "code",
   "execution_count": null,
   "id": "numerous-pipeline",
   "metadata": {},
   "outputs": [],
   "source": [
    "# Retrieve genes\n",
    "clustering_dict = pd.read_csv('/gstock/GeneIso/V2/HS-Miso-MM-Siso_HS_gene_names/String_9606_202202251921/QueryOnly_20.abc', names=['Cluster'])\n",
    "clustering_dict.index = clustering_dict.index  + 1\n",
    "clustering_dict = clustering_dict.to_dict()['Cluster']\n",
    "clustering_dict = {k:v.split('\\t') for k,v in clustering_dict.items()}\n",
    "\n",
    "\n",
    "writer = pd.ExcelWriter('/gstock/GeneIso/V2/HS-Miso-MM-Siso_HS_gene_names/String_9606_202202251921/GO_enrichment_v2.xlsx', engine='xlsxwriter')\n",
    "\n",
    "complete_df_enrichment = list()\n",
    "index_list = list()\n",
    "sources = ['GO:MF', 'GO:BP','GO:CC', 'REAC', 'KEGG', 'WP', 'CORUM', 'HP']\n",
    "\n",
    "# For each cluster, perform term enrichment & retrieve ratio in order to identify atypic ratios\n",
    "for k,v in clustering_dict.items():\n",
    "    if len(v) >= 20:\n",
    "        print(k, len(v))\n",
    "        tmp_df = profiler_enrichment(clustering_dict[k], sources=sources)\n",
    "        tmp_df.to_excel(writer,'Cluster {}'.format(k), index=False)\n",
    "writer.save()        "
   ]
  },
  {
   "cell_type": "markdown",
   "id": "unlimited-found",
   "metadata": {},
   "source": [
    "\n",
    "## ANALYSIS FOR GENES IDENTIFIED IN CLUSTERS WITH MCL BASED ON STRING INTERACTOME\n",
    "### HS SISOG > MM MISOG\n"
   ]
  },
  {
   "cell_type": "code",
   "execution_count": 336,
   "id": "patient-engine",
   "metadata": {},
   "outputs": [
    {
     "name": "stdout",
     "output_type": "stream",
     "text": [
      "1 42\n"
     ]
    },
    {
     "name": "stderr",
     "output_type": "stream",
     "text": [
      "  0%|                                                                                                             | 0/148 [00:00<?, ?it/s]/home/weber/.conda/envs/ExoCarto/lib/python3.7/site-packages/ipykernel_launcher.py:5: DeprecationWarning: The default dtype for empty Series will be 'object' instead of 'float64' in a future version. Specify a dtype explicitly to silence this warning.\n",
      "  \"\"\"\n",
      "100%|██████████████████████████████████████████████████████████████████████████████████████████████████| 148/148 [00:00<00:00, 183.45it/s]\n",
      "  0%|                                                                                                             | 0/148 [00:00<?, ?it/s]/home/weber/.conda/envs/ExoCarto/lib/python3.7/site-packages/ipykernel_launcher.py:17: RuntimeWarning: invalid value encountered in long_scalars\n",
      " 42%|█████████████████████████████████████████▍                                                         | 62/148 [00:00<00:00, 180.39it/s]/home/weber/.conda/envs/ExoCarto/lib/python3.7/site-packages/ipykernel_launcher.py:17: RuntimeWarning: divide by zero encountered in long_scalars\n",
      "100%|██████████████████████████████████████████████████████████████████████████████████████████████████| 148/148 [00:00<00:00, 220.35it/s]\n"
     ]
    },
    {
     "name": "stdout",
     "output_type": "stream",
     "text": [
      "2 33\n"
     ]
    },
    {
     "name": "stderr",
     "output_type": "stream",
     "text": [
      "100%|██████████████████████████████████████████████████████████████████████████████████████████████████| 164/164 [00:00<00:00, 242.33it/s]\n",
      "100%|██████████████████████████████████████████████████████████████████████████████████████████████████| 164/164 [00:00<00:00, 239.55it/s]\n"
     ]
    },
    {
     "name": "stdout",
     "output_type": "stream",
     "text": [
      "3 32\n"
     ]
    },
    {
     "name": "stderr",
     "output_type": "stream",
     "text": [
      "100%|████████████████████████████████████████████████████████████████████████████████████████████████████| 93/93 [00:00<00:00, 222.71it/s]\n",
      "100%|████████████████████████████████████████████████████████████████████████████████████████████████████| 93/93 [00:00<00:00, 227.49it/s]\n"
     ]
    },
    {
     "name": "stdout",
     "output_type": "stream",
     "text": [
      "4 24\n"
     ]
    },
    {
     "name": "stderr",
     "output_type": "stream",
     "text": [
      "100%|████████████████████████████████████████████████████████████████████████████████████████████████████| 80/80 [00:00<00:00, 231.82it/s]\n",
      "100%|████████████████████████████████████████████████████████████████████████████████████████████████████| 80/80 [00:00<00:00, 207.83it/s]\n"
     ]
    },
    {
     "name": "stdout",
     "output_type": "stream",
     "text": [
      "5 21\n"
     ]
    },
    {
     "name": "stderr",
     "output_type": "stream",
     "text": [
      "100%|████████████████████████████████████████████████████████████████████████████████████████████████████| 95/95 [00:00<00:00, 237.53it/s]\n",
      "100%|████████████████████████████████████████████████████████████████████████████████████████████████████| 95/95 [00:00<00:00, 242.87it/s]\n"
     ]
    },
    {
     "name": "stdout",
     "output_type": "stream",
     "text": [
      "6 21\n"
     ]
    },
    {
     "name": "stderr",
     "output_type": "stream",
     "text": [
      "100%|██████████████████████████████████████████████████████████████████████████████████████████████████| 219/219 [00:00<00:00, 245.97it/s]\n",
      "100%|██████████████████████████████████████████████████████████████████████████████████████████████████| 219/219 [00:00<00:00, 249.99it/s]\n"
     ]
    },
    {
     "name": "stdout",
     "output_type": "stream",
     "text": [
      "7 17\n"
     ]
    },
    {
     "name": "stderr",
     "output_type": "stream",
     "text": [
      "100%|████████████████████████████████████████████████████████████████████████████████████████████████████| 56/56 [00:00<00:00, 157.18it/s]\n",
      "100%|████████████████████████████████████████████████████████████████████████████████████████████████████| 56/56 [00:00<00:00, 107.24it/s]\n"
     ]
    },
    {
     "name": "stdout",
     "output_type": "stream",
     "text": [
      "8 15\n"
     ]
    },
    {
     "name": "stderr",
     "output_type": "stream",
     "text": [
      "100%|██████████████████████████████████████████████████████████████████████████████████████████████████| 137/137 [00:00<00:00, 204.88it/s]\n",
      "100%|██████████████████████████████████████████████████████████████████████████████████████████████████| 137/137 [00:00<00:00, 224.87it/s]\n"
     ]
    },
    {
     "name": "stdout",
     "output_type": "stream",
     "text": [
      "9 13\n"
     ]
    },
    {
     "name": "stderr",
     "output_type": "stream",
     "text": [
      "100%|████████████████████████████████████████████████████████████████████████████████████████████████████| 32/32 [00:00<00:00, 130.36it/s]\n",
      "100%|████████████████████████████████████████████████████████████████████████████████████████████████████| 32/32 [00:00<00:00, 238.45it/s]\n"
     ]
    },
    {
     "name": "stdout",
     "output_type": "stream",
     "text": [
      "10 12\n"
     ]
    },
    {
     "name": "stderr",
     "output_type": "stream",
     "text": [
      "100%|████████████████████████████████████████████████████████████████████████████████████████████████████| 93/93 [00:00<00:00, 245.93it/s]\n",
      "100%|████████████████████████████████████████████████████████████████████████████████████████████████████| 93/93 [00:00<00:00, 206.00it/s]\n"
     ]
    },
    {
     "name": "stdout",
     "output_type": "stream",
     "text": [
      "11 12\n"
     ]
    },
    {
     "name": "stderr",
     "output_type": "stream",
     "text": [
      "100%|██████████████████████████████████████████████████████████████████████████████████████████████████| 101/101 [00:00<00:00, 235.46it/s]\n",
      "100%|██████████████████████████████████████████████████████████████████████████████████████████████████| 101/101 [00:00<00:00, 243.20it/s]\n"
     ]
    },
    {
     "name": "stdout",
     "output_type": "stream",
     "text": [
      "12 11\n"
     ]
    },
    {
     "name": "stderr",
     "output_type": "stream",
     "text": [
      "100%|████████████████████████████████████████████████████████████████████████████████████████████████████| 63/63 [00:00<00:00, 147.88it/s]\n",
      "100%|████████████████████████████████████████████████████████████████████████████████████████████████████| 63/63 [00:00<00:00, 143.30it/s]\n"
     ]
    },
    {
     "name": "stdout",
     "output_type": "stream",
     "text": [
      "13 10\n"
     ]
    },
    {
     "name": "stderr",
     "output_type": "stream",
     "text": [
      "100%|████████████████████████████████████████████████████████████████████████████████████████████████████| 41/41 [00:00<00:00, 243.40it/s]\n",
      "100%|████████████████████████████████████████████████████████████████████████████████████████████████████| 41/41 [00:00<00:00, 138.52it/s]\n"
     ]
    },
    {
     "name": "stdout",
     "output_type": "stream",
     "text": [
      "14 10\n"
     ]
    },
    {
     "name": "stderr",
     "output_type": "stream",
     "text": [
      "100%|████████████████████████████████████████████████████████████████████████████████████████████████████| 44/44 [00:00<00:00, 108.65it/s]\n",
      "100%|████████████████████████████████████████████████████████████████████████████████████████████████████| 44/44 [00:00<00:00, 147.81it/s]\n"
     ]
    },
    {
     "name": "stdout",
     "output_type": "stream",
     "text": [
      "15 10\n"
     ]
    },
    {
     "name": "stderr",
     "output_type": "stream",
     "text": [
      "100%|████████████████████████████████████████████████████████████████████████████████████████████████████| 44/44 [00:00<00:00, 253.61it/s]\n",
      "100%|████████████████████████████████████████████████████████████████████████████████████████████████████| 44/44 [00:00<00:00, 253.83it/s]\n"
     ]
    },
    {
     "name": "stdout",
     "output_type": "stream",
     "text": [
      "16 10\n"
     ]
    },
    {
     "name": "stderr",
     "output_type": "stream",
     "text": [
      "100%|████████████████████████████████████████████████████████████████████████████████████████████████████| 49/49 [00:00<00:00, 200.04it/s]\n",
      "100%|████████████████████████████████████████████████████████████████████████████████████████████████████| 49/49 [00:00<00:00, 265.06it/s]\n"
     ]
    }
   ],
   "source": [
    "# Retrieve genes\n",
    "clustering_dict = pd.read_csv('/gstock/GeneIso/V2/HS-Siso-MM-Miso_HS_gene_names/String_9606_202202251921/QueryOnly_20.abc', names=['Cluster'])\n",
    "clustering_dict.index = clustering_dict.index  + 1\n",
    "clustering_dict = clustering_dict.to_dict()['Cluster']\n",
    "clustering_dict = {k:v.split('\\t') for k,v in clustering_dict.items()}\n",
    "\n",
    "\n",
    "writer = pd.ExcelWriter('/gstock/GeneIso/V2/HS-Siso-MM-Miso_HS_gene_names/String_9606_202202251921/GO_enrichment_v2.xlsx', engine='xlsxwriter')\n",
    "\n",
    "complete_df_enrichment = list()\n",
    "index_list = list()\n",
    "sources = ['GO:MF', 'GO:BP','GO:CC', 'REAC', 'KEGG', 'WP', 'CORUM', 'HP']\n",
    "for k,v in clustering_dict.items():\n",
    "    if len(v) >= 10:\n",
    "        print(k, len(v))\n",
    "        tmp_df = profiler_enrichment(clustering_dict[k], sources=sources)\n",
    "        tmp_df.to_excel(writer,'Cluster {}'.format(k), index=False)\n",
    "writer.save()        "
   ]
  }
 ],
 "metadata": {
  "kernelspec": {
   "display_name": "Python [conda env:.conda-ExoCarto] *",
   "language": "python",
   "name": "conda-env-.conda-ExoCarto-py"
  },
  "language_info": {
   "codemirror_mode": {
    "name": "ipython",
    "version": 3
   },
   "file_extension": ".py",
   "mimetype": "text/x-python",
   "name": "python",
   "nbconvert_exporter": "python",
   "pygments_lexer": "ipython3",
   "version": "3.7.6"
  }
 },
 "nbformat": 4,
 "nbformat_minor": 5
}
